{
  "nbformat": 4,
  "nbformat_minor": 0,
  "metadata": {
    "colab": {
      "name": "Untitled80.ipynb",
      "provenance": [],
      "collapsed_sections": []
    },
    "kernelspec": {
      "name": "python3",
      "display_name": "Python 3"
    },
    "language_info": {
      "name": "python"
    }
  },
  "cells": [
    {
      "cell_type": "code",
      "execution_count": 440,
      "metadata": {
        "id": "zezmgceJfoNf"
      },
      "outputs": [],
      "source": [
        "import numpy as np\n",
        "import pandas as pd\n",
        "import time\n",
        "from sklearn.svm import LinearSVC\n",
        "from sklearn.metrics import accuracy_score"
      ]
    },
    {
      "cell_type": "code",
      "source": [
        "data = pd.read_csv('heartdataset.csv')"
      ],
      "metadata": {
        "id": "jfgKr7SkkVhx"
      },
      "execution_count": 327,
      "outputs": []
    },
    {
      "cell_type": "code",
      "source": [
        "Y = data['Label']\n",
        "X = data.drop(['Label'], axis=1)"
      ],
      "metadata": {
        "id": "NHhgIa5D_Ah1"
      },
      "execution_count": 411,
      "outputs": []
    },
    {
      "cell_type": "markdown",
      "source": [
        "Sample Size = 30"
      ],
      "metadata": {
        "id": "f0yUU_b3FUAI"
      }
    },
    {
      "cell_type": "code",
      "source": [
        "m = 30\n",
        "x = X[:m]\n",
        "y = Y[:m]"
      ],
      "metadata": {
        "id": "QxjP0tlq9rzi"
      },
      "execution_count": 435,
      "outputs": []
    },
    {
      "cell_type": "code",
      "source": [
        "# DUAL PROBLEM\n",
        "\n",
        "start = time.time()\n",
        "clf = LinearSVC(dual = True, C = 0.001,max_iter=10000)\n",
        "clf.fit(x,y)\n",
        "stop = time.time()\n",
        "print(f\"Training time: {stop - start}s\")"
      ],
      "metadata": {
        "colab": {
          "base_uri": "https://localhost:8080/"
        },
        "id": "hGhM3botAMLd",
        "outputId": "b1433708-4f12-4d3d-a3be-96efc6bd75b2"
      },
      "execution_count": 365,
      "outputs": [
        {
          "output_type": "stream",
          "name": "stdout",
          "text": [
            "Training time: 0.009607315063476562s\n"
          ]
        }
      ]
    },
    {
      "cell_type": "code",
      "source": [
        "y_pred = clf.predict(x)\n",
        "a = accuracy_score(y, y_pred)\n",
        "print(a)"
      ],
      "metadata": {
        "colab": {
          "base_uri": "https://localhost:8080/"
        },
        "id": "5V3hJ9xnB5r3",
        "outputId": "9963c33c-daca-4f31-ab15-6cdb17241250"
      },
      "execution_count": 437,
      "outputs": [
        {
          "output_type": "stream",
          "name": "stdout",
          "text": [
            "0.7\n"
          ]
        }
      ]
    },
    {
      "cell_type": "code",
      "source": [
        "# DUAL PROBLEM WITHOUT BIAS TERM\n",
        "\n",
        "start = time.time()\n",
        "clf = LinearSVC(dual = True, C = 0.001,fit_intercept=False, max_iter=10000)\n",
        "clf.fit(x,y)\n",
        "stop = time.time()\n",
        "print(f\"Training time: {stop - start}s\")"
      ],
      "metadata": {
        "colab": {
          "base_uri": "https://localhost:8080/"
        },
        "id": "PDuRHJg_A7KS",
        "outputId": "283c6349-a2c8-4539-cf53-33653c06b086"
      },
      "execution_count": 405,
      "outputs": [
        {
          "output_type": "stream",
          "name": "stdout",
          "text": [
            "Training time: 0.008478879928588867s\n"
          ]
        }
      ]
    },
    {
      "cell_type": "code",
      "source": [
        "# DUAL PROBLEM WITH RANDOM STATE FOR SUB-PROBLEMS\n",
        "\n",
        "start = time.time()\n",
        "clf = LinearSVC(dual = True, C = 0.001,random_state = True, max_iter=10000)\n",
        "clf.fit(x,y)\n",
        "stop = time.time()\n",
        "print(f\"Training time: {stop - start}s\")"
      ],
      "metadata": {
        "colab": {
          "base_uri": "https://localhost:8080/"
        },
        "id": "osLTUCD2AR5s",
        "outputId": "2350455f-b273-4393-d8e1-3dbdde091df1"
      },
      "execution_count": 376,
      "outputs": [
        {
          "output_type": "stream",
          "name": "stdout",
          "text": [
            "Training time: 0.008320808410644531s\n"
          ]
        }
      ]
    },
    {
      "cell_type": "code",
      "source": [
        "# PRIMAL PROBLEM\n",
        "\n",
        "start = time.time()\n",
        "clf = LinearSVC(dual = False, C = 0.001,max_iter=10000)\n",
        "clf.fit(x,y)\n",
        "stop = time.time()\n",
        "print(f\"Training time: {stop - start}s\")"
      ],
      "metadata": {
        "colab": {
          "base_uri": "https://localhost:8080/"
        },
        "id": "ftSqx2am7MqB",
        "outputId": "ad411892-e570-4548-de8b-d57cdf83ba44"
      },
      "execution_count": 402,
      "outputs": [
        {
          "output_type": "stream",
          "name": "stdout",
          "text": [
            "Training time: 0.010730743408203125s\n"
          ]
        }
      ]
    },
    {
      "cell_type": "code",
      "source": [
        "y_pred = clf.predict(x)\n",
        "a= accuracy_score(y, y_pred)\n",
        "print(a)"
      ],
      "metadata": {
        "colab": {
          "base_uri": "https://localhost:8080/"
        },
        "id": "GD1v9IiUCAI1",
        "outputId": "476bed18-efa5-4a3b-f1c7-20172b1d8521"
      },
      "execution_count": 439,
      "outputs": [
        {
          "output_type": "stream",
          "name": "stdout",
          "text": [
            "0.7\n"
          ]
        }
      ]
    },
    {
      "cell_type": "markdown",
      "source": [
        "Sample Size = 300"
      ],
      "metadata": {
        "id": "K1x5noBaFqx6"
      }
    },
    {
      "cell_type": "code",
      "source": [
        "m = 300\n",
        "x = X[:m]\n",
        "y = Y[:m]"
      ],
      "metadata": {
        "id": "13pMP555A7IU"
      },
      "execution_count": 412,
      "outputs": []
    },
    {
      "cell_type": "code",
      "source": [
        "# DUAL PROBLEM\n",
        "\n",
        "start = time.time()\n",
        "clf = LinearSVC(dual = True, C = 0.001,max_iter=10000)\n",
        "clf.fit(x,y)\n",
        "stop = time.time()\n",
        "print(f\"Training time: {stop - start}s\")"
      ],
      "metadata": {
        "colab": {
          "base_uri": "https://localhost:8080/"
        },
        "id": "VLRd0WOBA7Gf",
        "outputId": "e994c98c-f197-4ff9-af68-3217092f62bb"
      },
      "execution_count": 427,
      "outputs": [
        {
          "output_type": "stream",
          "name": "stdout",
          "text": [
            "Training time: 0.11362957954406738s\n"
          ]
        }
      ]
    },
    {
      "cell_type": "code",
      "source": [
        "y_pred = clf.predict(x)\n",
        "a= accuracy_score(y, y_pred)\n",
        "print(a)"
      ],
      "metadata": {
        "colab": {
          "base_uri": "https://localhost:8080/"
        },
        "id": "BZaiFWKeBzGy",
        "outputId": "e484217a-a09a-4e61-f904-7979695f3e4d"
      },
      "execution_count": 434,
      "outputs": [
        {
          "output_type": "stream",
          "name": "stdout",
          "text": [
            "0.8333333333333334\n"
          ]
        }
      ]
    },
    {
      "cell_type": "code",
      "source": [
        "# PRIMAL PROBLEM\n",
        "\n",
        "start = time.time()\n",
        "clf = LinearSVC(dual = False, C = 0.001)\n",
        "clf.fit(data,y)\n",
        "stop = time.time()\n",
        "print(f\"Training time: {stop - start}s\")"
      ],
      "metadata": {
        "colab": {
          "base_uri": "https://localhost:8080/"
        },
        "id": "ybcsrdaf896y",
        "outputId": "9f75302d-882e-4fd8-b0c2-e9f740b96de0"
      },
      "execution_count": 239,
      "outputs": [
        {
          "output_type": "stream",
          "name": "stdout",
          "text": [
            "Training time: 0.025166034698486328s\n"
          ]
        }
      ]
    },
    {
      "cell_type": "code",
      "source": [
        "y_pred = clf.predict(x)\n",
        "a= accuracy_score(y, y_pred)\n",
        "print(a)"
      ],
      "metadata": {
        "colab": {
          "base_uri": "https://localhost:8080/"
        },
        "id": "mBj05_dI_jJ-",
        "outputId": "54e9106d-8736-492b-95ab-415bb55399a4"
      },
      "execution_count": 431,
      "outputs": [
        {
          "output_type": "stream",
          "name": "stdout",
          "text": [
            "0.8333333333333334\n"
          ]
        }
      ]
    }
  ]
}